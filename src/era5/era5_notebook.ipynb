{
 "cells": [
  {
   "cell_type": "code",
   "execution_count": 40,
   "metadata": {},
   "outputs": [],
   "source": [
    "import cartopy.crs as ccrs\n",
    "import dataclasses\n",
    "import datetime\n",
    "from functools import cache\n",
    "import numcodecs as ncd\n",
    "import numpy as np\n",
    "import s3fs\n",
    "import xarray as xr\n",
    "import pandas as pd"
   ]
  },
  {
   "cell_type": "code",
   "execution_count": 41,
   "metadata": {},
   "outputs": [],
   "source": [
    "fs = s3fs.S3FileSystem(anon=True)\n",
    "\n",
    "lat = 42.35843\n",
    "lng = -71.05977"
   ]
  },
  {
   "cell_type": "code",
   "execution_count": 42,
   "metadata": {},
   "outputs": [],
   "source": [
    "def fix_accum_var_dims(ds, var):\n",
    "    # Some varibles like precip have extra time bounds varibles, we drop them here to allow merging with other variables\n",
    "    \n",
    "    # Select variable of interest (drops dims that are not linked to current variable)\n",
    "    ds = ds[[var]]  \n",
    "\n",
    "    if var in ['air_temperature_at_2_metres',\n",
    "               'dew_point_temperature_at_2_metres',\n",
    "               'air_pressure_at_mean_sea_level',\n",
    "               'northward_wind_at_10_metres',\n",
    "               'eastward_wind_at_10_metres']:\n",
    "        \n",
    "        ds = ds.rename({'time0':'valid_time_end_utc'})\n",
    "        \n",
    "    elif var in ['precipitation_amount_1hour_Accumulation',\n",
    "                 'integral_wrt_time_of_surface_direct_downwelling_shortwave_flux_in_air_1hour_Accumulation']:\n",
    "        \n",
    "        ds = ds.rename({'time1':'valid_time_end_utc'})\n",
    "        \n",
    "    else:\n",
    "        print(\"Warning, Haven't seen {var} varible yet! Time renaming might not work.\".format(var=var))\n",
    "        \n",
    "    return ds"
   ]
  },
  {
   "cell_type": "code",
   "execution_count": 43,
   "metadata": {},
   "outputs": [],
   "source": [
    "def fetch_data(start_date: datetime.datetime, end_date: datetime.datetime, variables: list):\n",
    "  file_pattern = 'era5-pds/zarr/{year}/{month:02}/data/{var}.zarr/'\n",
    "  file_dates = list(pd.date_range(start_date, end_date, freq='MS'))\n",
    "  l = []\n",
    "  for var in variables:\n",
    "    file_names = [file_pattern.format(year=file_date.year, month=file_date.month, var=var) for file_date in file_dates]\n",
    "    print(file_names)\n",
    "    s3_files = (s3fs.S3Map(file_name, s3=fs) for file_name in file_names)\n",
    "    # Look up correct time dimension by variable name\n",
    "    if var in ['precipitation_amount_1hour_Accumulation']:\n",
    "      concat_dim='time1'\n",
    "    else:\n",
    "      concat_dim='time0'\n",
    "    # Lazy load\n",
    "    ds = xr.open_mfdataset(s3_files, engine='zarr', \n",
    "                           concat_dim=concat_dim, combine='nested', \n",
    "                           coords='minimal', compat='override', parallel=True)\n",
    "    \n",
    "    # Fix dimension names\n",
    "    ds = fix_accum_var_dims(ds, var)\n",
    "    l.append(ds)\n",
    "\n",
    "  return xr.merge(l)"
   ]
  },
  {
   "cell_type": "code",
   "execution_count": 44,
   "metadata": {},
   "outputs": [
    {
     "name": "stdout",
     "output_type": "stream",
     "text": [
      "['era5-pds/zarr/2022/01/data/snow_density.zarr/', 'era5-pds/zarr/2022/02/data/snow_density.zarr/']\n",
      "Warning, Haven't seen snow_density varible yet! Time renaming might not work.\n",
      "<xarray.Dataset>\n",
      "Dimensions:       (time0: 1416, lat: 721, lon: 1440)\n",
      "Coordinates:\n",
      "  * lat           (lat) float32 90.0 89.75 89.5 89.25 ... -89.5 -89.75 -90.0\n",
      "  * lon           (lon) float32 0.0 0.25 0.5 0.75 ... 359.0 359.2 359.5 359.8\n",
      "  * time0         (time0) datetime64[ns] 2022-01-01 ... 2022-02-28T23:00:00\n",
      "Data variables:\n",
      "    snow_density  (time0, lat, lon) float32 dask.array<chunksize=(372, 150, 150), meta=np.ndarray>\n",
      "Attributes:\n",
      "    institution:  ECMWF\n",
      "    source:       Reanalysis\n",
      "    title:        ERA5 forecasts\n"
     ]
    },
    {
     "data": {
      "text/plain": [
       "[<matplotlib.lines.Line2D at 0x7f10a8a724a0>]"
      ]
     },
     "execution_count": 44,
     "metadata": {},
     "output_type": "execute_result"
    },
    {
     "data": {
      "image/png": "[encoded data removed]",
      "text/plain": [
       "<Figure size 432x288 with 1 Axes>"
      ]
     },
     "metadata": {
      "needs_background": "light"
     },
     "output_type": "display_data"
    }
   ],
   "source": [
    "start_date = datetime.datetime(2022, 1, 1)\n",
    "end_date = datetime.datetime(2022, 2, 1)\n",
    "data = fetch_data(start_date, end_date, ['snow_density'])\n",
    "print(data)\n",
    "data = data.sel(lat=lat, lon=lng, method='nearest')\n",
    "data['snow_density'].plot()\n"
   ]
  }
 ],
 "metadata": {
  "interpreter": {
   "hash": "949777d72b0d2535278d3dc13498b2535136f6dfe0678499012e853ee9abcab1"
  },
  "kernelspec": {
   "display_name": "Python 3.10.2 64-bit",
   "language": "python",
   "name": "python3"
  },
  "language_info": {
   "codemirror_mode": {
    "name": "ipython",
    "version": 3
   },
   "file_extension": ".py",
   "mimetype": "text/x-python",
   "name": "python",
   "nbconvert_exporter": "python",
   "pygments_lexer": "ipython3",
   "version": "3.10.2"
  },
  "orig_nbformat": 4
 },
 "nbformat": 4,
 "nbformat_minor": 2
}
